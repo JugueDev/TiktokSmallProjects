{
 "cells": [
  {
   "cell_type": "code",
   "execution_count": 8,
   "metadata": {},
   "outputs": [
    {
     "data": {
      "text/plain": [
       "(40035, 1)"
      ]
     },
     "execution_count": 8,
     "metadata": {},
     "output_type": "execute_result"
    }
   ],
   "source": [
    "import warnings\n",
    "warnings.simplefilter(action='ignore')\n",
    "\n",
    "import pandas as pd\n",
    "df = pd.read_csv(\"chat_exported.txt\", header=None, encoding='utf-8', delimiter ='qwerty')#,on_bad_lines='skip')\n",
    "df.columns = ['base']\n",
    "\n",
    "#Establecer el idioma en el que estaba configurado wsp\n",
    "language_settings = \"ingles\"\n",
    "\n",
    "#Cantidad de mensajes\n",
    "df.shape"
   ]
  },
  {
   "cell_type": "code",
   "execution_count": 9,
   "metadata": {},
   "outputs": [],
   "source": [
    "#Extracción de columnas base\n",
    "df[\"fecha\"] = df[\"base\"].str.split(\",\", expand=True)[0]\n",
    "df[\"time\"] = df[\"base\"].str.split(\" \", expand=True)[1]\n",
    "df[\"remitente\"] = df[\"base\"].str.split(\"-\", expand=True)[1].str.split(\":\", expand=True)[0]\n",
    "df[\"mensaje\"] = df[\"base\"].str.split(\":\", expand=True)[2]\n"
   ]
  },
  {
   "cell_type": "code",
   "execution_count": 10,
   "metadata": {},
   "outputs": [],
   "source": [
    "#Extracción de columnas adicionales dependiendo de la configuración\n",
    "if language_settings == \"español\":\n",
    "    df[\"part_day\"] = df[\"time\"].str.slice(-5)[1]\n",
    "    df[\"minuto\"] = df[\"time\"].str.split(\":\", expand=True)[1].str.slice(0,2)\n",
    "    df[\"hora\"] = df[\"time\"].str.split(\":\", expand=True)[0]\n",
    "else:\n",
    "    df[\"part_day\"] = df[\"base\"].str.split(\" \", expand=True)[4]\n",
    "    df[\"hora\"] = df[\"time\"].str.split(\":\", expand=True)[0]\n",
    "    df[\"minuto\"] = df[\"time\"].str.split(\":\", expand=True)[1]\n",
    "\n"
   ]
  },
  {
   "cell_type": "code",
   "execution_count": 11,
   "metadata": {},
   "outputs": [],
   "source": [
    "#Proposed KPIs\n",
    "# Most repeated words \n",
    "# Messages by hour\n",
    "# Messages by date\n",
    "# Day with more messages\n",
    "# Total number of messages\n",
    "# Most used emojis\n",
    "# number of pictores\n",
    "# One Image\n",
    "# Number of meesages by sender\n",
    "# Filter by month, sender and hora\n"
   ]
  }
 ],
 "metadata": {
  "kernelspec": {
   "display_name": "Python 3",
   "language": "python",
   "name": "python3"
  },
  "language_info": {
   "codemirror_mode": {
    "name": "ipython",
    "version": 3
   },
   "file_extension": ".py",
   "mimetype": "text/x-python",
   "name": "python",
   "nbconvert_exporter": "python",
   "pygments_lexer": "ipython3",
   "version": "3.9.13"
  },
  "orig_nbformat": 4,
  "vscode": {
   "interpreter": {
    "hash": "864b877cdd4102ec891bcc60c09678a900c6325089ee4076a5f0c1858e4ae179"
   }
  }
 },
 "nbformat": 4,
 "nbformat_minor": 2
}
