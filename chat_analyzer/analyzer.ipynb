{
 "cells": [
  {
   "attachments": {},
   "cell_type": "markdown",
   "metadata": {},
   "source": [
    "## Analizar una conversación de Whatsapp"
   ]
  },
  {
   "cell_type": "code",
   "execution_count": 1,
   "metadata": {},
   "outputs": [
    {
     "name": "stdout",
     "output_type": "stream",
     "text": [
      "Registros con saltos de linea: []\n",
      "Registros Totales: (8, 2)\n"
     ]
    }
   ],
   "source": [
    "import warnings\n",
    "warnings.simplefilter(action='ignore')\n",
    "\n",
    "import pandas as pd\n",
    "df = pd.read_csv(\"chat_exported_english.txt\", header=None, encoding='utf-8', delimiter ='qwerty')#,on_bad_lines='skip')\n",
    "df.columns = ['base']\n",
    "\n",
    "\n",
    "#Concatenar columnas con saltos de línea\n",
    "df[\"log_count\"] = (df[\"base\"].str.match(r'^[0-9]')).cumsum()\n",
    "print(\"Registros con saltos de linea: \" + str(df[df[\"base\"].str.match(r'^[0-9]')==False][\"log_count\"].unique()))\n",
    "df = df.groupby([\"log_count\"], sort=False)[\"base\"].agg(' '.join).reset_index()\n",
    "print(\"Registros Totales: \" + str(df.shape))\n",
    "\n",
    "\n",
    "#Establecer el idioma en el que estaba configurado wsp\n",
    "language_settings = \"ingles\"\n",
    "\n"
   ]
  },
  {
   "cell_type": "code",
   "execution_count": 2,
   "metadata": {},
   "outputs": [],
   "source": [
    "# Limpiamos aquellos registros que no tengan como remitente ninguno de los dos participantes\n",
    "df[\"remitente\"] = df[\"base\"].str.split(\"-\", expand=True)[1].str.split(\":\", expand=True)[0]\n",
    "#df = df.drop(df[(df.remitente!=' Yo')&(df.remitente!=' Mi Amor')].index)\n"
   ]
  },
  {
   "cell_type": "code",
   "execution_count": 3,
   "metadata": {},
   "outputs": [],
   "source": [
    "#Extracción de columnas base\n",
    "df[\"fecha\"] = df[\"base\"].str.split(\",\", expand=True)[0]\n",
    "df['fecha'] = pd.to_datetime(df['fecha'])\n",
    "df[\"time\"] = df[\"base\"].str.split(\" \", expand=True)[1]\n",
    "df[\"mensaje\"] = df[\"base\"].str.split(\":\", expand=True, n=2)[2]\n"
   ]
  },
  {
   "cell_type": "code",
   "execution_count": 4,
   "metadata": {},
   "outputs": [],
   "source": [
    "#Extracción de columnas adicionales dependiendo de la configuración\n",
    "if language_settings == \"español\":\n",
    "    df[\"part_day\"] = df[\"time\"].str.slice(-5)[1]\n",
    "    df[\"minuto\"] = df[\"time\"].str.split(\":\", expand=True)[1].str.slice(0,2)\n",
    "    df[\"hora\"] = df[\"time\"].str.split(\":\", expand=True)[0]\n",
    "    #Conversión de formato de hora a 24 horas\n",
    "    df.loc[(df[\"part_day\"].str.match(r'^p')), \"hora\"] = df.hora.astype(\"int\")+12\n",
    "else:\n",
    "    df[\"part_day\"] = df[\"base\"].str.split(\"-\", expand=True)[0].str.split().str[-1]\n",
    "    df[\"hora\"] = df[\"time\"].str.split(\":\", expand=True)[0]\n",
    "    df[\"minuto\"] = df[\"time\"].str.split(\":\", expand=True)[1]\n",
    "    #Conversión de formato de hora a 24 horas\n",
    "    df.loc[(df.part_day==\"evening\"), \"hora\"] = df.hora.astype(\"int\")+12\n",
    "    df.loc[(df.part_day==\"afternoon\")&(df.hora!=\"12\"), \"hora\"] = df.hora.astype(\"int\")+12\n",
    "    df.loc[(df.part_day==\"midnight\"), \"hora\"] = df.hora.astype(\"int\")+12\n",
    "    df.loc[((df.part_day==\"night\")&(df.hora.astype(\"int\")>=7)), \"hora\"] = df.hora.astype(\"int\")+12\n",
    "\n",
    "df=df.drop(['time','part_day','log_count'], axis = 1)\n"
   ]
  },
  {
   "cell_type": "code",
   "execution_count": 5,
   "metadata": {},
   "outputs": [],
   "source": [
    "# Escribir la tabla en un csv\n",
    "df.to_csv('output.csv', index = False, sep = \"|\")\n"
   ]
  },
  {
   "cell_type": "code",
   "execution_count": 6,
   "metadata": {},
   "outputs": [],
   "source": [
    "#Proposed KPIs\n",
    "# Most repeated words \n",
    "# Messages by hour\n",
    "# Messages by date\n",
    "# Day with more messages\n",
    "# Total number of messages\n",
    "# number of pictures\n",
    "# One Image\n",
    "# Number of meesages by sender\n",
    "# Filter by month, sender and hora\n"
   ]
  },
  {
   "cell_type": "code",
   "execution_count": 7,
   "metadata": {},
   "outputs": [
    {
     "data": {
      "text/plain": [
       "array([' Yo', ' Mi Amor'], dtype=object)"
      ]
     },
     "execution_count": 7,
     "metadata": {},
     "output_type": "execute_result"
    }
   ],
   "source": [
    "#QA tests\n",
    "df[\"base\"].str.split(\"-\", expand=True)[0].str.split().str[-1].unique() # Para la parte del día\n",
    "df[\"base\"].str.split(\"-\", expand=True)[1].str.split(\":\", expand=True)[0].unique() # Para remitente\n"
   ]
  }
 ],
 "metadata": {
  "kernelspec": {
   "display_name": "Python 3",
   "language": "python",
   "name": "python3"
  },
  "language_info": {
   "codemirror_mode": {
    "name": "ipython",
    "version": 3
   },
   "file_extension": ".py",
   "mimetype": "text/x-python",
   "name": "python",
   "nbconvert_exporter": "python",
   "pygments_lexer": "ipython3",
   "version": "3.9.13"
  },
  "orig_nbformat": 4,
  "vscode": {
   "interpreter": {
    "hash": "864b877cdd4102ec891bcc60c09678a900c6325089ee4076a5f0c1858e4ae179"
   }
  }
 },
 "nbformat": 4,
 "nbformat_minor": 2
}
