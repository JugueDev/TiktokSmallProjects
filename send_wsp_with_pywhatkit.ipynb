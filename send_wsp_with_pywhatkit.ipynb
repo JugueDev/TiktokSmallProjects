{
 "cells": [
  {
   "attachments": {},
   "cell_type": "markdown",
   "metadata": {},
   "source": [
    "### ENVÍO AUTOMÁTICO DE MENSAJES CON PYWHATKIT"
   ]
  },
  {
   "cell_type": "code",
   "execution_count": null,
   "metadata": {},
   "outputs": [],
   "source": [
    "#Importamos las librerías \n",
    "import pywhatkit as pwk\n",
    "from datetime import datetime\n",
    "import  time\n",
    "\n",
    "\n"
   ]
  },
  {
   "cell_type": "code",
   "execution_count": null,
   "metadata": {},
   "outputs": [],
   "source": [
    "#Lista con números y nombres\n",
    "lista_envios = [[\"+51999999999\",\"Jose\"],\n",
    "    [\"+51888888888\",\"Peter\"]]\n",
    "\n"
   ]
  },
  {
   "cell_type": "code",
   "execution_count": null,
   "metadata": {},
   "outputs": [],
   "source": [
    "\n",
    "#Bucle para enviar mensajes a cada usuario instantaneamente\n",
    "for envio in lista_envios:\n",
    "    msj = \"¡Feliz Navidad \" + envio[1] +\"! No te olvides de mi regalo :D\"\n",
    "    pwk.sendwhatmsg_instantly(envio[0], msj, \n",
    "    10,tab_close=True)\n",
    "    time.sleep(1)\n",
    "\n",
    "\n"
   ]
  },
  {
   "cell_type": "code",
   "execution_count": null,
   "metadata": {},
   "outputs": [],
   "source": [
    "#También se puede programar el mensaje para una hora en particular\n",
    "mobile_no = \"+51999999999\" #Numero destino\n",
    "message = \"Hola este mensaje se enviara a las 23:59!\"\n",
    "hora = 23\n",
    "minuto = 59\n",
    "\n",
    "pwk.sendwhatmsg(mobile_no,message,hora,minuto)"
   ]
  }
 ],
 "metadata": {
  "kernelspec": {
   "display_name": "Python 3",
   "language": "python",
   "name": "python3"
  },
  "language_info": {
   "name": "python",
   "version": "3.9.13 (tags/v3.9.13:6de2ca5, May 17 2022, 16:36:42) [MSC v.1929 64 bit (AMD64)]"
  },
  "orig_nbformat": 4,
  "vscode": {
   "interpreter": {
    "hash": "864b877cdd4102ec891bcc60c09678a900c6325089ee4076a5f0c1858e4ae179"
   }
  }
 },
 "nbformat": 4,
 "nbformat_minor": 2
}
